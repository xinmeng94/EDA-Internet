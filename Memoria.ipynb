{
 "cells": [
  {
   "cell_type": "markdown",
   "metadata": {},
   "source": [
    "# Introduccion\n",
    "\n",
    "El objetivo de este trabajo se trata de conocer como son los precios de internet y la proporcion de personas que usa internet en distintos paises, trata de analizar si el precio de internet o la proporcion de población que usa intenete tiene alguna relacion con el Pib del pais, con la velocidad de internet etc. \n"
   ]
  },
  {
   "cell_type": "markdown",
   "metadata": {},
   "source": [
    "## Importación de las librerias.\n",
    "\n",
    "Se importa primero las librerias que se va a utilizar para el analisis."
   ]
  },
  {
   "cell_type": "code",
   "execution_count": 1,
   "metadata": {},
   "outputs": [],
   "source": [
    "import matplotlib.pyplot as plt\n",
    "import pandas as pd\n",
    "import numpy as np\n",
    "import seaborn as sns\n",
    "import plotly\n",
    "import plotly.express as px"
   ]
  },
  {
   "cell_type": "markdown",
   "metadata": {},
   "source": [
    "## Importación de los datos para el analisis\n",
    "\n",
    "Se importa los datos de distintos dataset. Principal fuente de datos seria el Kaggle y de Banco mundial.\n",
    "- Datos de precio de internet de 2020: https://www.kaggle.com/datasets/cityapiio/world-cities-average-internet-prices-2020\n",
    "- Proporcion de poblacion que usa internet: https://databank.worldbank.org/home.aspx\n",
    "- Datos de PIB : https://www.kaggle.com/datasets/zgrcemta/world-gdpgdp-gdp-per-capita-and-annual-growths\n",
    "- Datos de velocidad: https://www.kaggle.com/datasets/prasertk/internet-broadband-and-mobile-speeds-by-country\n",
    "- Datos de proporcion de industria en el PIB : https://databank.worldbank.org/home.aspx"
   ]
  },
  {
   "cell_type": "code",
   "execution_count": 2,
   "metadata": {},
   "outputs": [],
   "source": [
    "df_precio_internet = pd.read_csv('Datos/cities_internet_prices.19-10-2021.csv')\n",
    "df_poblacion_uso_internet = pd.read_csv('Datos/dato_población_internet.csv')\n",
    "df_pib = pd.read_csv('Datos/gdp.csv')\n",
    "df_pib_percapita = pd.read_csv('Datos/gdp_per_capita.csv')\n",
    "df_industria = pd.read_csv(\"Datos/Industry (including construction), value added (% of GDP).csv\")\n",
    "df_clasificacion = pd.read_csv('Datos/clasificacion de paise.csv')\n",
    "df_velocidad = pd.read_csv('Datos/internet broadband and mobile speeds by country.csv')"
   ]
  },
  {
   "cell_type": "markdown",
   "metadata": {},
   "source": [
    "## Limpieza de datos\n",
    "\n",
    "Dado que los datos proviene de diferentes dataset se realiza la limpeza de datos para su posterior unión. Los nombre de los paises muestran de diferente forma en los dataset, por lo que se replaza los nombre de los paises para que tenga uno unico. "
   ]
  },
  {
   "cell_type": "code",
   "execution_count": 3,
   "metadata": {},
   "outputs": [],
   "source": [
    "df_precio_internet.columns = ['City','Region','Country','InternetPrice']\n",
    "df_precio_internet['Region']=df_precio_internet['Region'].apply(lambda x : x.replace('\"',''))\n",
    "df_precio_internet['Country']=df_precio_internet['Country'].apply(lambda x : x.replace('\"',''))\n",
    "df_precio_internet[\"InternetPrice\"] = df_precio_internet[\"InternetPrice\"].round(2)"
   ]
  },
  {
   "cell_type": "markdown",
   "metadata": {},
   "source": [
    "Para el analisis se necesita los precios medio de internet por pais, por lo que se realiza un groupby para sacar los datos. "
   ]
  },
  {
   "cell_type": "code",
   "execution_count": 4,
   "metadata": {},
   "outputs": [],
   "source": [
    "df_precio_por_pais = df_precio_internet.groupby(\"Country\")[[\"InternetPrice\"]].mean()\n",
    "df_precio_por_pais = df_precio_por_pais.reset_index()\n",
    "df_precio_por_pais['Country']=df_precio_por_pais.iloc[:,0].apply(lambda x : x.replace(' ',''))\n"
   ]
  },
  {
   "cell_type": "markdown",
   "metadata": {},
   "source": [
    "se modifica los nombres de los paises de df precio para que posteriortemente pueda hacer el merge sin perder muchos datos. "
   ]
  },
  {
   "cell_type": "code",
   "execution_count": 5,
   "metadata": {},
   "outputs": [],
   "source": [
    "\n",
    "df_precio_por_pais[\"Country\"] = df_precio_por_pais[\"Country\"].replace('Russia', 'Russian Federation')\n",
    "df_precio_por_pais[\"Country\"] = df_precio_por_pais[\"Country\"].replace('UnitedArabEmirates', 'United Arab Emirates')\n",
    "df_precio_por_pais[\"Country\"] = df_precio_por_pais[\"Country\"].replace('NorthMacedonia', 'North Macedonia')\n",
    "df_precio_por_pais[\"Country\"] = df_precio_por_pais[\"Country\"].replace('TrinidadandTobago', 'Trinidad and Tobago')\n",
    "df_precio_por_pais[\"Country\"] = df_precio_por_pais[\"Country\"].replace('DominicanRepublic', 'Dominican Republic')\n",
    "df_precio_por_pais[\"Country\"] = df_precio_por_pais[\"Country\"].replace('Turkey', 'Turkiye')\n",
    "df_precio_por_pais[\"Country\"] = df_precio_por_pais[\"Country\"].replace('Slovakia', 'Slovak Republic')\n",
    "df_precio_por_pais[\"Country\"] = df_precio_por_pais[\"Country\"].replace('SaudiArabia', 'Saudi Arabia')\n",
    "df_precio_por_pais[\"Country\"] = df_precio_por_pais[\"Country\"].replace('BosniaandHerzegovina', 'Bosnia and Herzegovina')\n",
    "df_precio_por_pais[\"Country\"] = df_precio_por_pais[\"Country\"].replace('SouthKorea', 'Korea, Rep.')\n",
    "df_precio_por_pais[\"Country\"] = df_precio_por_pais[\"Country\"].replace('Brunei', 'Brunei Darussalam')\n",
    "df_precio_por_pais[\"Country\"] = df_precio_por_pais[\"Country\"].replace('CzechRepublic', 'Czech Republic')\n",
    "df_precio_por_pais[\"Country\"] = df_precio_por_pais[\"Country\"].replace('TheBahamas', 'Bahamas, The')\n",
    "df_precio_por_pais[\"Country\"] = df_precio_por_pais[\"Country\"].replace('Kyrgyzstan', 'Kyrgyz Republic')\n",
    "df_precio_por_pais[\"Country\"] = df_precio_por_pais[\"Country\"].replace('Egypt', 'Egypt, Arab Rep.')\n",
    "df_precio_por_pais[\"Country\"] = df_precio_por_pais[\"Country\"].replace('UnitedStatesofAmerica', 'United States')\n",
    "df_precio_por_pais[\"Country\"] = df_precio_por_pais[\"Country\"].replace('ElSalvador', 'El Salvador')\n",
    "df_precio_por_pais[\"Country\"] = df_precio_por_pais[\"Country\"].replace('UnitedKingdom', 'United Kingdom')\n",
    "df_precio_por_pais[\"Country\"] = df_precio_por_pais[\"Country\"].replace('SriLanka', 'Sri Lanka')\n",
    "df_precio_por_pais[\"Country\"] = df_precio_por_pais[\"Country\"].replace(\"People'sRepublicofChina\", 'China')\n",
    "df_precio_por_pais[\"Country\"] = df_precio_por_pais[\"Country\"].replace(\"CostaRica\", 'Costa Rica')\n",
    "df_precio_por_pais[\"Country\"] = df_precio_por_pais[\"Country\"].replace(\"NewZealand\", 'New Zealand')\n",
    "df_precio_por_pais[\"Country\"] = df_precio_por_pais[\"Country\"].replace(\"Iran\", 'Iran, Islamic Rep.')\n",
    "df_precio_por_pais[\"Country\"] = df_precio_por_pais[\"Country\"].replace(\"SouthAfrica\", 'South Africa')"
   ]
  },
  {
   "cell_type": "markdown",
   "metadata": {},
   "source": [
    "solo se necesita datos de 2020, por lo que se elimina las columnas no necesarias y las filas que no contenga información. Se observa que hay missing values en la columna de 2020, ademas de valores sin sentido \"..\", por lo que se reemplaza todos los valores \"..\"por NaN, y con el metodo fillna trata de rellenar con datos del año anterior. Pasar los datos de columna 2020 en numeros, y si no hay numeros convierte el contenido de celda en Nan, y se elimina todos los valosres NaN. Para los demas datos,tambien se realiza el mismo proceso, se trata de eliminar las columnas no necesarias y los missiong values que puede haber\n"
   ]
  },
  {
   "cell_type": "code",
   "execution_count": 6,
   "metadata": {},
   "outputs": [],
   "source": [
    "\n",
    "df_uso_2020 = df_poblacion_uso_internet.drop(df_poblacion_uso_internet.loc[:,\"Series Name\":\"Series Code\"],axis=1)\n",
    "df_uso_2020 = df_uso_2020.drop(df_poblacion_uso_internet.loc[:,\"1990 [YR1990]\":\"2018 [YR2018]\"],axis=1)\n",
    "df_uso_2020 = df_uso_2020.rename(columns={\"Country Name\":\"Country\"})\n",
    "df_uso_2020 = df_uso_2020.drop(range(217,271))\n",
    "df_uso_2020[\"2020 [YR2020]\"] = df_uso_2020[\"2020 [YR2020]\"].replace('..', '').replace('', np.nan).astype(float)\n",
    "df_uso_2020 = df_uso_2020.fillna(method=\"ffill\",axis=1)\n",
    "df_uso_2020 = df_uso_2020.drop(\"2019 [YR2019]\",axis=1)\n",
    "df_uso_2020[\"2020 [YR2020]\"]=pd.to_numeric(df_uso_2020[\"2020 [YR2020]\"],'coerce')\n",
    "df_uso_2020=df_uso_2020.dropna()"
   ]
  },
  {
   "cell_type": "markdown",
   "metadata": {},
   "source": [
    "Se realiza el merge de las dos dataset mediante la columna de Country. "
   ]
  },
  {
   "cell_type": "code",
   "execution_count": 7,
   "metadata": {},
   "outputs": [],
   "source": [
    "df_resultado = df_precio_por_pais.merge(df_uso_2020,on=\"Country\")\n",
    "df_resultado[\"2020 [YR2020]\"].astype(float)\n",
    "df_resultado = df_resultado.rename(columns={\"2020 [YR2020]\":\"population internet use 2020\"})"
   ]
  },
  {
   "cell_type": "markdown",
   "metadata": {},
   "source": [
    "Hace las mismas modificaciones con el dataset de PIB,pib percapita, y los demas datos, dado que es muy grande el numero del Pib de los paises, se realiza una transformación para pasar la unidad a cien millones, y se une al df_resultado. "
   ]
  },
  {
   "cell_type": "code",
   "execution_count": 8,
   "metadata": {},
   "outputs": [],
   "source": [
    "df_pib = df_pib.drop(df_pib.loc[:,\"Code\":\"2019\"],axis=1)\n",
    "df_pib = df_pib.drop(\"Unnamed: 65\",axis=1)\n",
    "df_pib = df_pib.rename(columns={\"Country Name\":\"Country\",\"2020\":\"PIB 2020 (cien millones)\"})\n",
    "df_pib[\"PIB 2020 (cien millones)\"] = df_pib[\"PIB 2020 (cien millones)\"].apply(lambda x : x/(10**11))\n",
    "df_resultado = df_resultado.merge(df_pib,on=\"Country\")"
   ]
  },
  {
   "cell_type": "code",
   "execution_count": 9,
   "metadata": {},
   "outputs": [],
   "source": [
    "df_pib_percapita = df_pib_percapita.drop(df_pib_percapita.loc[:,\"Code\":\"2019\"],axis=1).drop(\"Unnamed: 65\",axis=1)\n",
    "df_pib_percapita = df_pib_percapita.rename(columns={\"Country Name\":\"Country\",\"2020\":\"PIB_per_capita 2020\"})\n",
    "df_resultado = df_resultado.merge(df_pib_percapita,on=\"Country\")"
   ]
  },
  {
   "cell_type": "code",
   "execution_count": 10,
   "metadata": {},
   "outputs": [],
   "source": [
    "df_industria = df_industria.drop(df_industria.loc[:,\"Country Code\":\"2017\"],axis=1).drop(df_industria.loc[:,\"2021\":],axis=1)\n",
    "df_industria = df_industria.rename(columns={\"Country Name\":\"Country\",\"2020\":\"proporcion industris sobre PIB\"})\n",
    "df_industria = df_industria.fillna(method=\"ffill\",axis=1)\n",
    "df_industria = df_industria.drop(df_industria.loc[:,\"2018\":\"2019\"],axis=1)\n",
    "df_industria[\"proporcion industris sobre PIB\"]=pd.to_numeric(df_industria[\"proporcion industris sobre PIB\"],'coerce')\n",
    "df_industria=df_industria.dropna()\n",
    "df_resultado = df_resultado.merge(df_industria,on=\"Country\")"
   ]
  },
  {
   "cell_type": "code",
   "execution_count": 11,
   "metadata": {},
   "outputs": [],
   "source": [
    "df_clasificacion = df_clasificacion.drop(\"Region\",axis=1).drop(\"Unnamed: 4\",axis=1).drop(\"Country Name\",axis=1)\n",
    "df_clasificacion = df_clasificacion.rename(columns={\"Country Name\":\"Country\"})\n",
    "df_resultado = df_resultado.merge(df_clasificacion,on=\"Country Code\")"
   ]
  },
  {
   "cell_type": "code",
   "execution_count": 12,
   "metadata": {},
   "outputs": [],
   "source": [
    "df_velocidad = df_velocidad.drop(\"Mobile Mbps\",axis=1).drop(\"Mobile Speed Rank\",axis=1).drop(\"Unnamed: 0\",axis=1)\n",
    "df_velocidad[\"Country\"] = df_velocidad[\"Country\"].replace('Russia', 'Russian Federation')\n",
    "df_velocidad[\"Country\"] = df_velocidad[\"Country\"].replace('Czechia', 'Czech Republic')\n",
    "df_velocidad[\"Country\"] = df_velocidad[\"Country\"].replace('Kyrgyzstan', 'Kyrgyz Republic')\n",
    "df_velocidad[\"Country\"] = df_velocidad[\"Country\"].replace('Egypt', 'Egypt, Arab Rep.')\n",
    "df_velocidad[\"Country\"] = df_velocidad[\"Country\"].replace('Iran', 'Iran, Islamic Rep.')\n",
    "df_velocidad[\"Country\"] = df_velocidad[\"Country\"].replace('The Bahamas', 'Bahamas, The')\n",
    "df_velocidad[\"Country\"] = df_velocidad[\"Country\"].replace('Turkey', 'Turkiye')\n",
    "df_velocidad[\"Country\"] = df_velocidad[\"Country\"].replace('The Bahamas', 'Bahamas, The')\n",
    "df_velocidad[\"Country\"] = df_velocidad[\"Country\"].replace('Slovakia', 'Slovak Republic')\n",
    "df_velocidad[\"Country\"] = df_velocidad[\"Country\"].replace('South Korea', 'Korea, Rep.')\n",
    "df_velocidad[\"Country\"] = df_velocidad[\"Country\"].replace('Brunei', 'Brunei Darussalam')\n",
    "df_resultado = df_resultado.merge(df_velocidad,on=\"Country\")"
   ]
  },
  {
   "cell_type": "markdown",
   "metadata": {},
   "source": [
    "Se comprueba que no hay missing values en el df_resultado. "
   ]
  },
  {
   "cell_type": "code",
   "execution_count": 13,
   "metadata": {},
   "outputs": [
    {
     "data": {
      "text/plain": [
       "Country                           0\n",
       "InternetPrice                     0\n",
       "Country Code                      0\n",
       "population internet use 2020      0\n",
       "PIB 2020 (cien millones)          0\n",
       "PIB_per_capita 2020               0\n",
       "proporcion industris sobre PIB    0\n",
       "Income_Group                      0\n",
       "Broadband Speed Rank              0\n",
       "Broadband Mbps                    0\n",
       "dtype: int64"
      ]
     },
     "execution_count": 13,
     "metadata": {},
     "output_type": "execute_result"
    }
   ],
   "source": [
    "df_resultado.isnull().sum()"
   ]
  },
  {
   "cell_type": "markdown",
   "metadata": {},
   "source": [
    "Se puede observar que se cuenta con datos de 101 paises, el df_resultado esta compuesto por 9 columnas. "
   ]
  },
  {
   "cell_type": "code",
   "execution_count": 14,
   "metadata": {},
   "outputs": [
    {
     "name": "stdout",
     "output_type": "stream",
     "text": [
      "<class 'pandas.core.frame.DataFrame'>\n",
      "Int64Index: 101 entries, 0 to 100\n",
      "Data columns (total 10 columns):\n",
      " #   Column                          Non-Null Count  Dtype  \n",
      "---  ------                          --------------  -----  \n",
      " 0   Country                         101 non-null    object \n",
      " 1   InternetPrice                   101 non-null    float64\n",
      " 2   Country Code                    101 non-null    object \n",
      " 3   population internet use 2020    101 non-null    float64\n",
      " 4   PIB 2020 (cien millones)        101 non-null    float64\n",
      " 5   PIB_per_capita 2020             101 non-null    float64\n",
      " 6   proporcion industris sobre PIB  101 non-null    float64\n",
      " 7   Income_Group                    101 non-null    object \n",
      " 8   Broadband Speed Rank            101 non-null    float64\n",
      " 9   Broadband Mbps                  101 non-null    float64\n",
      "dtypes: float64(7), object(3)\n",
      "memory usage: 8.7+ KB\n"
     ]
    }
   ],
   "source": [
    "df_resultado.info()"
   ]
  },
  {
   "cell_type": "code",
   "execution_count": 15,
   "metadata": {},
   "outputs": [
    {
     "data": {
      "text/html": [
       "<div>\n",
       "<style scoped>\n",
       "    .dataframe tbody tr th:only-of-type {\n",
       "        vertical-align: middle;\n",
       "    }\n",
       "\n",
       "    .dataframe tbody tr th {\n",
       "        vertical-align: top;\n",
       "    }\n",
       "\n",
       "    .dataframe thead th {\n",
       "        text-align: right;\n",
       "    }\n",
       "</style>\n",
       "<table border=\"1\" class=\"dataframe\">\n",
       "  <thead>\n",
       "    <tr style=\"text-align: right;\">\n",
       "      <th></th>\n",
       "      <th>InternetPrice</th>\n",
       "      <th>population internet use 2020</th>\n",
       "      <th>PIB 2020 (cien millones)</th>\n",
       "      <th>PIB_per_capita 2020</th>\n",
       "      <th>proporcion industris sobre PIB</th>\n",
       "      <th>Broadband Speed Rank</th>\n",
       "      <th>Broadband Mbps</th>\n",
       "    </tr>\n",
       "  </thead>\n",
       "  <tbody>\n",
       "    <tr>\n",
       "      <th>count</th>\n",
       "      <td>101.000000</td>\n",
       "      <td>101.000000</td>\n",
       "      <td>101.000000</td>\n",
       "      <td>101.000000</td>\n",
       "      <td>101.000000</td>\n",
       "      <td>101.000000</td>\n",
       "      <td>101.000000</td>\n",
       "    </tr>\n",
       "    <tr>\n",
       "      <th>mean</th>\n",
       "      <td>38.585284</td>\n",
       "      <td>74.664297</td>\n",
       "      <td>7.891355</td>\n",
       "      <td>18784.355428</td>\n",
       "      <td>26.658114</td>\n",
       "      <td>72.762376</td>\n",
       "      <td>57.193861</td>\n",
       "    </tr>\n",
       "    <tr>\n",
       "      <th>std</th>\n",
       "      <td>22.838746</td>\n",
       "      <td>20.248308</td>\n",
       "      <td>26.053489</td>\n",
       "      <td>21602.401645</td>\n",
       "      <td>8.546996</td>\n",
       "      <td>44.311883</td>\n",
       "      <td>41.916178</td>\n",
       "    </tr>\n",
       "    <tr>\n",
       "      <th>min</th>\n",
       "      <td>5.010000</td>\n",
       "      <td>19.900000</td>\n",
       "      <td>0.037428</td>\n",
       "      <td>822.027682</td>\n",
       "      <td>11.175970</td>\n",
       "      <td>2.000000</td>\n",
       "      <td>5.210000</td>\n",
       "    </tr>\n",
       "    <tr>\n",
       "      <th>25%</th>\n",
       "      <td>21.160000</td>\n",
       "      <td>64.600000</td>\n",
       "      <td>0.416203</td>\n",
       "      <td>4145.862936</td>\n",
       "      <td>21.116668</td>\n",
       "      <td>36.000000</td>\n",
       "      <td>26.770000</td>\n",
       "    </tr>\n",
       "    <tr>\n",
       "      <th>50%</th>\n",
       "      <td>33.060000</td>\n",
       "      <td>80.530186</td>\n",
       "      <td>1.450092</td>\n",
       "      <td>9122.233430</td>\n",
       "      <td>25.462096</td>\n",
       "      <td>70.000000</td>\n",
       "      <td>47.380000</td>\n",
       "    </tr>\n",
       "    <tr>\n",
       "      <th>75%</th>\n",
       "      <td>49.690000</td>\n",
       "      <td>89.812941</td>\n",
       "      <td>4.071007</td>\n",
       "      <td>25517.330665</td>\n",
       "      <td>30.282472</td>\n",
       "      <td>102.000000</td>\n",
       "      <td>85.610000</td>\n",
       "    </tr>\n",
       "    <tr>\n",
       "      <th>max</th>\n",
       "      <td>111.430000</td>\n",
       "      <td>100.000000</td>\n",
       "      <td>209.530300</td>\n",
       "      <td>116014.602497</td>\n",
       "      <td>59.133630</td>\n",
       "      <td>167.000000</td>\n",
       "      <td>192.010000</td>\n",
       "    </tr>\n",
       "  </tbody>\n",
       "</table>\n",
       "</div>"
      ],
      "text/plain": [
       "       InternetPrice  population internet use 2020  PIB 2020 (cien millones)  \\\n",
       "count     101.000000                    101.000000                101.000000   \n",
       "mean       38.585284                     74.664297                  7.891355   \n",
       "std        22.838746                     20.248308                 26.053489   \n",
       "min         5.010000                     19.900000                  0.037428   \n",
       "25%        21.160000                     64.600000                  0.416203   \n",
       "50%        33.060000                     80.530186                  1.450092   \n",
       "75%        49.690000                     89.812941                  4.071007   \n",
       "max       111.430000                    100.000000                209.530300   \n",
       "\n",
       "       PIB_per_capita 2020  proporcion industris sobre PIB  \\\n",
       "count           101.000000                      101.000000   \n",
       "mean          18784.355428                       26.658114   \n",
       "std           21602.401645                        8.546996   \n",
       "min             822.027682                       11.175970   \n",
       "25%            4145.862936                       21.116668   \n",
       "50%            9122.233430                       25.462096   \n",
       "75%           25517.330665                       30.282472   \n",
       "max          116014.602497                       59.133630   \n",
       "\n",
       "       Broadband Speed Rank  Broadband Mbps  \n",
       "count            101.000000      101.000000  \n",
       "mean              72.762376       57.193861  \n",
       "std               44.311883       41.916178  \n",
       "min                2.000000        5.210000  \n",
       "25%               36.000000       26.770000  \n",
       "50%               70.000000       47.380000  \n",
       "75%              102.000000       85.610000  \n",
       "max              167.000000      192.010000  "
      ]
     },
     "execution_count": 15,
     "metadata": {},
     "output_type": "execute_result"
    }
   ],
   "source": [
    "df_resultado.describe()"
   ]
  },
  {
   "cell_type": "markdown",
   "metadata": {},
   "source": [
    "# Visualizacion \n",
    "\n",
    "En este aparta se trata de reflejar mediante los graficos ver si existe relacion entre los variables. "
   ]
  },
  {
   "cell_type": "markdown",
   "metadata": {},
   "source": [
    "Grafico de precio de internet"
   ]
  },
  {
   "cell_type": "code",
   "execution_count": 16,
   "metadata": {},
   "outputs": [
    {
     "name": "stderr",
     "output_type": "stream",
     "text": [
      "/Library/Frameworks/Python.framework/Versions/3.7/lib/python3.7/site-packages/seaborn/_decorators.py:43: FutureWarning: Pass the following variable as a keyword arg: x. From version 0.12, the only valid positional argument will be `data`, and passing other arguments without an explicit keyword will result in an error or misinterpretation.\n",
      "  FutureWarning\n",
      "/Library/Frameworks/Python.framework/Versions/3.7/lib/python3.7/site-packages/seaborn/distributions.py:2619: FutureWarning: `distplot` is a deprecated function and will be removed in a future version. Please adapt your code to use either `displot` (a figure-level function with similar flexibility) or `histplot` (an axes-level function for histograms).\n",
      "  warnings.warn(msg, FutureWarning)\n"
     ]
    },
    {
     "data": {
      "text/plain": [
       "<AxesSubplot:xlabel='InternetPrice'>"
      ]
     },
     "execution_count": 16,
     "metadata": {},
     "output_type": "execute_result"
    },
    {
     "data": {
      "image/png": "[encoded data removed]",
      "text/plain": [
       "<Figure size 720x360 with 2 Axes>"
      ]
     },
     "metadata": {
      "needs_background": "light"
     },
     "output_type": "display_data"
    }
   ],
   "source": [
    "f, (axi1,axi2) = plt.subplots(2, 1, figsize=(10,5), sharex=True);\n",
    "sns.boxplot(df_resultado[\"InternetPrice\"],ax=axi1);\n",
    "sns.distplot(df_resultado[\"InternetPrice\"],\n",
    "             kde=False,\n",
    "             bins=100,ax=axi2)"
   ]
  },
  {
   "cell_type": "markdown",
   "metadata": {},
   "source": [
    "Mediante el diagrama de caja podemos ver una asimetría positiva o segada a la derecha ya que la parte más larga de la caja es la parte superior a la mediana. Los datos se concentran en la parte inferior de la distribución. La media suele ser mayor que la mediana. En este caso la mediana es un  38.01, mientras que la media es de 32.58. Ademas mediante el histograma y el diagrama de cajas se puede ver que existe unos valores atipicos en la muestra, tratandose de precios muy elevados por encima de los 100 USD. \n"
   ]
  },
  {
   "cell_type": "code",
   "execution_count": 17,
   "metadata": {},
   "outputs": [
    {
     "name": "stdout",
     "output_type": "stream",
     "text": [
      "Valor del percentil 0: 5.010000000000001\n",
      "Valor del percentil 25: 21.16\n",
      "Valor del percentil 50: 33.06\n",
      "Valor del percentil 75: 49.69\n",
      "Valor del percentil 100: 111.43\n",
      "Valor media: 38.59\n"
     ]
    }
   ],
   "source": [
    "p_0 = np.percentile(df_resultado[\"InternetPrice\"], 0) #Q0 #Min\n",
    "p_25 = np.percentile(df_resultado[\"InternetPrice\"], 25) #Q1\n",
    "p_50 = np.percentile(df_resultado[\"InternetPrice\"], 50) #Q2 #Mediana 中位数\n",
    "p_75 = np.percentile(df_resultado[\"InternetPrice\"], 75) #Q3\n",
    "p_100 = np.percentile(df_resultado[\"InternetPrice\"], 100) #Q4 #Max los cualtiles.\n",
    "\n",
    "print(\"Valor del percentil 0:\", p_0)\n",
    "print(\"Valor del percentil 25:\", p_25)\n",
    "print(\"Valor del percentil 50:\", p_50)\n",
    "print(\"Valor del percentil 75:\", p_75)\n",
    "print(\"Valor del percentil 100:\", p_100)\n",
    "print(\"Valor media:\", round(df_resultado[\"InternetPrice\"].mean(),2) )"
   ]
  },
  {
   "cell_type": "code",
   "execution_count": 18,
   "metadata": {},
   "outputs": [
    {
     "data": {
      "application/vnd.plotly.v1+json": {
       "config": {
        "plotlyServerURL": "https://plot.ly"
       },
       "data": [
        {
         "coloraxis": "coloraxis",
         "geo": "geo",
         "hovertemplate": "Country=%{location}<br>InternetPrice=%{z}<extra></extra>",
         "locationmode": "country names",
         "locations": [
          "Albania",
          "Algeria",
          "Argentina",
          "Armenia",
          "Australia",
          "Austria",
          "Azerbaijan",
          "Bahrain",
          "Bangladesh",
          "Belarus",
          "Belgium",
          "Bolivia",
          "Bosnia and Herzegovina",
          "Botswana",
          "Brazil",
          "Brunei Darussalam",
          "Bulgaria",
          "Canada",
          "Chile",
          "Colombia",
          "Costa Rica",
          "Croatia",
          "Cyprus",
          "Czech Republic",
          "Dominican Republic",
          "Ecuador",
          "Egypt, Arab Rep.",
          "El Salvador",
          "Estonia",
          "Finland",
          "France",
          "Georgia",
          "Germany",
          "Ghana",
          "Greece",
          "Guatemala",
          "Honduras",
          "Hungary",
          "India",
          "Indonesia",
          "Iran, Islamic Rep.",
          "Iraq",
          "Ireland",
          "Israel",
          "Italy",
          "Japan",
          "Kazakhstan",
          "Kenya",
          "Kuwait",
          "Kyrgyz Republic",
          "Latvia",
          "Lebanon",
          "Lithuania",
          "Luxembourg",
          "Malaysia",
          "Maldives",
          "Mexico",
          "Montenegro",
          "Morocco",
          "Namibia",
          "Nepal",
          "New Zealand",
          "Nicaragua",
          "Nigeria",
          "North Macedonia",
          "Norway",
          "Oman",
          "Pakistan",
          "Panama",
          "Paraguay",
          "China",
          "Peru",
          "Philippines",
          "Poland",
          "Portugal",
          "Qatar",
          "Romania",
          "Russian Federation",
          "Saudi Arabia",
          "Serbia",
          "Singapore",
          "Slovak Republic",
          "Slovenia",
          "South Africa",
          "Korea, Rep.",
          "Spain",
          "Sri Lanka",
          "Sweden",
          "Switzerland",
          "Tanzania",
          "Thailand",
          "Bahamas, The",
          "Tunisia",
          "Uganda",
          "Ukraine",
          "United Arab Emirates",
          "United Kingdom",
          "United States",
          "Uruguay",
          "Uzbekistan",
          "Zimbabwe"
         ],
         "name": "",
         "type": "choropleth",
         "z": [
          21.16,
          45.18,
          29.413999999999998,
          17.69,
          51.66125,
          34.664,
          18.32,
          60.52,
          28.59,
          12.04,
          51.4675,
          49.69,
          22.814999999999998,
          73.69,
          21.983,
          111.43,
          11.802,
          55.40137931034483,
          33.349999999999994,
          27.512,
          49.54,
          30.38166666666667,
          47.10666666666666,
          18.4575,
          45.02,
          43.96333333333333,
          27.50333333333333,
          46.62,
          25.75,
          22.71666666666667,
          29.04714285714286,
          15.075,
          37.14375,
          49.21,
          36.9,
          67.03,
          69.29,
          14.44,
          10.503333333333334,
          29.876666666666665,
          19.7,
          37.54,
          55.916666666666664,
          24.87,
          32.23636363636364,
          41.91,
          11.34,
          59.88,
          22.04,
          16.79,
          17.5,
          51.9,
          11.9,
          60.29,
          28.486666666666668,
          109.22,
          24.621111111111112,
          24.29,
          28.956666666666667,
          48.16,
          17.35,
          48.8675,
          62.55,
          40.95,
          20.38,
          48.815,
          81.81,
          23.098333333333333,
          46.43,
          33.06,
          14.909999999999998,
          32.58,
          48.427499999999995,
          13.577000000000002,
          35.726,
          84.92,
          8.831999999999999,
          6.811599999999999,
          61.12,
          20.86,
          31.79,
          16.89,
          39.47,
          53.388,
          21.39,
          43.79222222222222,
          17.42,
          31.125,
          60.225,
          72.67,
          20.662499999999998,
          51.25,
          15.2,
          69.06,
          5.010000000000001,
          100.362,
          37.6904347826087,
          66.4109009009009,
          32.34,
          33.56,
          104.83
         ]
        }
       ],
       "layout": {
        "coloraxis": {
         "colorbar": {
          "dtick": 7,
          "ticks": "outside",
          "tickvals": [
           5,
           10,
           30,
           50,
           70,
           100
          ],
          "title": {
           "text": "InternetPrice"
          }
         },
         "colorscale": [
          [
           0,
           "rgb(255,245,240)"
          ],
          [
           0.125,
           "rgb(254,224,210)"
          ],
          [
           0.25,
           "rgb(252,187,161)"
          ],
          [
           0.375,
           "rgb(252,146,114)"
          ],
          [
           0.5,
           "rgb(251,106,74)"
          ],
          [
           0.625,
           "rgb(239,59,44)"
          ],
          [
           0.75,
           "rgb(203,24,29)"
          ],
          [
           0.875,
           "rgb(165,15,21)"
          ],
          [
           1,
           "rgb(103,0,13)"
          ]
         ]
        },
        "geo": {
         "center": {},
         "domain": {
          "x": [
           0,
           1
          ],
          "y": [
           0,
           1
          ]
         },
         "scope": "world"
        },
        "legend": {
         "tracegroupgap": 0
        },
        "margin": {
         "b": 0,
         "l": 0,
         "r": 0,
         "t": 0
        },
        "template": {
         "data": {
          "bar": [
           {
            "error_x": {
             "color": "#2a3f5f"
            },
            "error_y": {
             "color": "#2a3f5f"
            },
            "marker": {
             "line": {
              "color": "#E5ECF6",
              "width": 0.5
             },
             "pattern": {
              "fillmode": "overlay",
              "size": 10,
              "solidity": 0.2
             }
            },
            "type": "bar"
           }
          ],
          "barpolar": [
           {
            "marker": {
             "line": {
              "color": "#E5ECF6",
              "width": 0.5
             },
             "pattern": {
              "fillmode": "overlay",
              "size": 10,
              "solidity": 0.2
             }
            },
            "type": "barpolar"
           }
          ],
          "carpet": [
           {
            "aaxis": {
             "endlinecolor": "#2a3f5f",
             "gridcolor": "white",
             "linecolor": "white",
             "minorgridcolor": "white",
             "startlinecolor": "#2a3f5f"
            },
            "baxis": {
             "endlinecolor": "#2a3f5f",
             "gridcolor": "white",
             "linecolor": "white",
             "minorgridcolor": "white",
             "startlinecolor": "#2a3f5f"
            },
            "type": "carpet"
           }
          ],
          "choropleth": [
           {
            "colorbar": {
             "outlinewidth": 0,
             "ticks": ""
            },
            "type": "choropleth"
           }
          ],
          "contour": [
           {
            "colorbar": {
             "outlinewidth": 0,
             "ticks": ""
            },
            "colorscale": [
             [
              0,
              "#0d0887"
             ],
             [
              0.1111111111111111,
              "#46039f"
             ],
             [
              0.2222222222222222,
              "#7201a8"
             ],
             [
              0.3333333333333333,
              "#9c179e"
             ],
             [
              0.4444444444444444,
              "#bd3786"
             ],
             [
              0.5555555555555556,
              "#d8576b"
             ],
             [
              0.6666666666666666,
              "#ed7953"
             ],
             [
              0.7777777777777778,
              "#fb9f3a"
             ],
             [
              0.8888888888888888,
              "#fdca26"
             ],
             [
              1,
              "#f0f921"
             ]
            ],
            "type": "contour"
           }
          ],
          "contourcarpet": [
           {
            "colorbar": {
             "outlinewidth": 0,
             "ticks": ""
            },
            "type": "contourcarpet"
           }
          ],
          "heatmap": [
           {
            "colorbar": {
             "outlinewidth": 0,
             "ticks": ""
            },
            "colorscale": [
             [
              0,
              "#0d0887"
             ],
             [
              0.1111111111111111,
              "#46039f"
             ],
             [
              0.2222222222222222,
              "#7201a8"
             ],
             [
              0.3333333333333333,
              "#9c179e"
             ],
             [
              0.4444444444444444,
              "#bd3786"
             ],
             [
              0.5555555555555556,
              "#d8576b"
             ],
             [
              0.6666666666666666,
              "#ed7953"
             ],
             [
              0.7777777777777778,
              "#fb9f3a"
             ],
             [
              0.8888888888888888,
              "#fdca26"
             ],
             [
              1,
              "#f0f921"
             ]
            ],
            "type": "heatmap"
           }
          ],
          "heatmapgl": [
           {
            "colorbar": {
             "outlinewidth": 0,
             "ticks": ""
            },
            "colorscale": [
             [
              0,
              "#0d0887"
             ],
             [
              0.1111111111111111,
              "#46039f"
             ],
             [
              0.2222222222222222,
              "#7201a8"
             ],
             [
              0.3333333333333333,
              "#9c179e"
             ],
             [
              0.4444444444444444,
              "#bd3786"
             ],
             [
              0.5555555555555556,
              "#d8576b"
             ],
             [
              0.6666666666666666,
              "#ed7953"
             ],
             [
              0.7777777777777778,
              "#fb9f3a"
             ],
             [
              0.8888888888888888,
              "#fdca26"
             ],
             [
              1,
              "#f0f921"
             ]
            ],
            "type": "heatmapgl"
           }
          ],
          "histogram": [
           {
            "marker": {
             "pattern": {
              "fillmode": "overlay",
              "size": 10,
              "solidity": 0.2
             }
            },
            "type": "histogram"
           }
          ],
          "histogram2d": [
           {
            "colorbar": {
             "outlinewidth": 0,
             "ticks": ""
            },
            "colorscale": [
             [
              0,
              "#0d0887"
             ],
             [
              0.1111111111111111,
              "#46039f"
             ],
             [
              0.2222222222222222,
              "#7201a8"
             ],
             [
              0.3333333333333333,
              "#9c179e"
             ],
             [
              0.4444444444444444,
              "#bd3786"
             ],
             [
              0.5555555555555556,
              "#d8576b"
             ],
             [
              0.6666666666666666,
              "#ed7953"
             ],
             [
              0.7777777777777778,
              "#fb9f3a"
             ],
             [
              0.8888888888888888,
              "#fdca26"
             ],
             [
              1,
              "#f0f921"
             ]
            ],
            "type": "histogram2d"
           }
          ],
          "histogram2dcontour": [
           {
            "colorbar": {
             "outlinewidth": 0,
             "ticks": ""
            },
            "colorscale": [
             [
              0,
              "#0d0887"
             ],
             [
              0.1111111111111111,
              "#46039f"
             ],
             [
              0.2222222222222222,
              "#7201a8"
             ],
             [
              0.3333333333333333,
              "#9c179e"
             ],
             [
              0.4444444444444444,
              "#bd3786"
             ],
             [
              0.5555555555555556,
              "#d8576b"
             ],
             [
              0.6666666666666666,
              "#ed7953"
             ],
             [
              0.7777777777777778,
              "#fb9f3a"
             ],
             [
              0.8888888888888888,
              "#fdca26"
             ],
             [
              1,
              "#f0f921"
             ]
            ],
            "type": "histogram2dcontour"
           }
          ],
          "mesh3d": [
           {
            "colorbar": {
             "outlinewidth": 0,
             "ticks": ""
            },
            "type": "mesh3d"
           }
          ],
          "parcoords": [
           {
            "line": {
             "colorbar": {
              "outlinewidth": 0,
              "ticks": ""
             }
            },
            "type": "parcoords"
           }
          ],
          "pie": [
           {
            "automargin": true,
            "type": "pie"
           }
          ],
          "scatter": [
           {
            "fillpattern": {
             "fillmode": "overlay",
             "size": 10,
             "solidity": 0.2
            },
            "type": "scatter"
           }
          ],
          "scatter3d": [
           {
            "line": {
             "colorbar": {
              "outlinewidth": 0,
              "ticks": ""
             }
            },
            "marker": {
             "colorbar": {
              "outlinewidth": 0,
              "ticks": ""
             }
            },
            "type": "scatter3d"
           }
          ],
          "scattercarpet": [
           {
            "marker": {
             "colorbar": {
              "outlinewidth": 0,
              "ticks": ""
             }
            },
            "type": "scattercarpet"
           }
          ],
          "scattergeo": [
           {
            "marker": {
             "colorbar": {
              "outlinewidth": 0,
              "ticks": ""
             }
            },
            "type": "scattergeo"
           }
          ],
          "scattergl": [
           {
            "marker": {
             "colorbar": {
              "outlinewidth": 0,
              "ticks": ""
             }
            },
            "type": "scattergl"
           }
          ],
          "scattermapbox": [
           {
            "marker": {
             "colorbar": {
              "outlinewidth": 0,
              "ticks": ""
             }
            },
            "type": "scattermapbox"
           }
          ],
          "scatterpolar": [
           {
            "marker": {
             "colorbar": {
              "outlinewidth": 0,
              "ticks": ""
             }
            },
            "type": "scatterpolar"
           }
          ],
          "scatterpolargl": [
           {
            "marker": {
             "colorbar": {
              "outlinewidth": 0,
              "ticks": ""
             }
            },
            "type": "scatterpolargl"
           }
          ],
          "scatterternary": [
           {
            "marker": {
             "colorbar": {
              "outlinewidth": 0,
              "ticks": ""
             }
            },
            "type": "scatterternary"
           }
          ],
          "surface": [
           {
            "colorbar": {
             "outlinewidth": 0,
             "ticks": ""
            },
            "colorscale": [
             [
              0,
              "#0d0887"
             ],
             [
              0.1111111111111111,
              "#46039f"
             ],
             [
              0.2222222222222222,
              "#7201a8"
             ],
             [
              0.3333333333333333,
              "#9c179e"
             ],
             [
              0.4444444444444444,
              "#bd3786"
             ],
             [
              0.5555555555555556,
              "#d8576b"
             ],
             [
              0.6666666666666666,
              "#ed7953"
             ],
             [
              0.7777777777777778,
              "#fb9f3a"
             ],
             [
              0.8888888888888888,
              "#fdca26"
             ],
             [
              1,
              "#f0f921"
             ]
            ],
            "type": "surface"
           }
          ],
          "table": [
           {
            "cells": {
             "fill": {
              "color": "#EBF0F8"
             },
             "line": {
              "color": "white"
             }
            },
            "header": {
             "fill": {
              "color": "#C8D4E3"
             },
             "line": {
              "color": "white"
             }
            },
            "type": "table"
           }
          ]
         },
         "layout": {
          "annotationdefaults": {
           "arrowcolor": "#2a3f5f",
           "arrowhead": 0,
           "arrowwidth": 1
          },
          "autotypenumbers": "strict",
          "coloraxis": {
           "colorbar": {
            "outlinewidth": 0,
            "ticks": ""
           }
          },
          "colorscale": {
           "diverging": [
            [
             0,
             "#8e0152"
            ],
            [
             0.1,
             "#c51b7d"
            ],
            [
             0.2,
             "#de77ae"
            ],
            [
             0.3,
             "#f1b6da"
            ],
            [
             0.4,
             "#fde0ef"
            ],
            [
             0.5,
             "#f7f7f7"
            ],
            [
             0.6,
             "#e6f5d0"
            ],
            [
             0.7,
             "#b8e186"
            ],
            [
             0.8,
             "#7fbc41"
            ],
            [
             0.9,
             "#4d9221"
            ],
            [
             1,
             "#276419"
            ]
           ],
           "sequential": [
            [
             0,
             "#0d0887"
            ],
            [
             0.1111111111111111,
             "#46039f"
            ],
            [
             0.2222222222222222,
             "#7201a8"
            ],
            [
             0.3333333333333333,
             "#9c179e"
            ],
            [
             0.4444444444444444,
             "#bd3786"
            ],
            [
             0.5555555555555556,
             "#d8576b"
            ],
            [
             0.6666666666666666,
             "#ed7953"
            ],
            [
             0.7777777777777778,
             "#fb9f3a"
            ],
            [
             0.8888888888888888,
             "#fdca26"
            ],
            [
             1,
             "#f0f921"
            ]
           ],
           "sequentialminus": [
            [
             0,
             "#0d0887"
            ],
            [
             0.1111111111111111,
             "#46039f"
            ],
            [
             0.2222222222222222,
             "#7201a8"
            ],
            [
             0.3333333333333333,
             "#9c179e"
            ],
            [
             0.4444444444444444,
             "#bd3786"
            ],
            [
             0.5555555555555556,
             "#d8576b"
            ],
            [
             0.6666666666666666,
             "#ed7953"
            ],
            [
             0.7777777777777778,
             "#fb9f3a"
            ],
            [
             0.8888888888888888,
             "#fdca26"
            ],
            [
             1,
             "#f0f921"
            ]
           ]
          },
          "colorway": [
           "#636efa",
           "#EF553B",
           "#00cc96",
           "#ab63fa",
           "#FFA15A",
           "#19d3f3",
           "#FF6692",
           "#B6E880",
           "#FF97FF",
           "#FECB52"
          ],
          "font": {
           "color": "#2a3f5f"
          },
          "geo": {
           "bgcolor": "white",
           "lakecolor": "white",
           "landcolor": "#E5ECF6",
           "showlakes": true,
           "showland": true,
           "subunitcolor": "white"
          },
          "hoverlabel": {
           "align": "left"
          },
          "hovermode": "closest",
          "mapbox": {
           "style": "light"
          },
          "paper_bgcolor": "white",
          "plot_bgcolor": "#E5ECF6",
          "polar": {
           "angularaxis": {
            "gridcolor": "white",
            "linecolor": "white",
            "ticks": ""
           },
           "bgcolor": "#E5ECF6",
           "radialaxis": {
            "gridcolor": "white",
            "linecolor": "white",
            "ticks": ""
           }
          },
          "scene": {
           "xaxis": {
            "backgroundcolor": "#E5ECF6",
            "gridcolor": "white",
            "gridwidth": 2,
            "linecolor": "white",
            "showbackground": true,
            "ticks": "",
            "zerolinecolor": "white"
           },
           "yaxis": {
            "backgroundcolor": "#E5ECF6",
            "gridcolor": "white",
            "gridwidth": 2,
            "linecolor": "white",
            "showbackground": true,
            "ticks": "",
            "zerolinecolor": "white"
           },
           "zaxis": {
            "backgroundcolor": "#E5ECF6",
            "gridcolor": "white",
            "gridwidth": 2,
            "linecolor": "white",
            "showbackground": true,
            "ticks": "",
            "zerolinecolor": "white"
           }
          },
          "shapedefaults": {
           "line": {
            "color": "#2a3f5f"
           }
          },
          "ternary": {
           "aaxis": {
            "gridcolor": "white",
            "linecolor": "white",
            "ticks": ""
           },
           "baxis": {
            "gridcolor": "white",
            "linecolor": "white",
            "ticks": ""
           },
           "bgcolor": "#E5ECF6",
           "caxis": {
            "gridcolor": "white",
            "linecolor": "white",
            "ticks": ""
           }
          },
          "title": {
           "x": 0.05
          },
          "xaxis": {
           "automargin": true,
           "gridcolor": "white",
           "linecolor": "white",
           "ticks": "",
           "title": {
            "standoff": 15
           },
           "zerolinecolor": "white",
           "zerolinewidth": 2
          },
          "yaxis": {
           "automargin": true,
           "gridcolor": "white",
           "linecolor": "white",
           "ticks": "",
           "title": {
            "standoff": 15
           },
           "zerolinecolor": "white",
           "zerolinewidth": 2
          }
         }
        }
       }
      }
     },
     "metadata": {},
     "output_type": "display_data"
    }
   ],
   "source": [
    "fig = px.choropleth(df_resultado, locations='Country', locationmode='country names',scope='world',color=\"InternetPrice\",  color_continuous_scale='reds')\n",
    "fig.update_layout(margin={'r':0,'t':0,'l':0,'b':0}, coloraxis_colorbar=dict(\n",
    "    title = \"InternetPrice\",\n",
    "    ticks = 'outside',\n",
    "    tickvals = [5,10,30,50,70,100],\n",
    "    dtick = 7\n",
    "))\n",
    "fig.show()"
   ]
  },
  {
   "cell_type": "code",
   "execution_count": 19,
   "metadata": {},
   "outputs": [
    {
     "data": {
      "text/plain": [
       "<AxesSubplot:xlabel='InternetPrice', ylabel='PIB_per_capita 2020'>"
      ]
     },
     "execution_count": 19,
     "metadata": {},
     "output_type": "execute_result"
    },
    {
     "data": {
      "image/png": "[encoded data removed]",
      "text/plain": [
       "<Figure size 864x576 with 1 Axes>"
      ]
     },
     "metadata": {
      "needs_background": "light"
     },
     "output_type": "display_data"
    }
   ],
   "source": [
    "plt.figure(figsize=(12,8))\n",
    "sns.scatterplot(y=df_resultado['PIB_per_capita 2020'],\n",
    "                x=df_resultado['InternetPrice'],\n",
    "                hue = df_resultado['Income_Group'], # separarlo por la clasificasion del pais\n",
    "               s=100)\n",
    "\n",
    "#plt.xlim(left=-0.5,right=10)"
   ]
  },
  {
   "cell_type": "markdown",
   "metadata": {},
   "source": [
    "Se trata de conocer cual son los paises que tiene el precio de internet mas alto"
   ]
  },
  {
   "cell_type": "code",
   "execution_count": 20,
   "metadata": {},
   "outputs": [],
   "source": [
    "df_15_max = df_resultado.sort_values(by=[\"InternetPrice\"],ascending=False).head(15)"
   ]
  },
  {
   "cell_type": "code",
   "execution_count": 55,
   "metadata": {},
   "outputs": [
    {
     "data": {
      "text/plain": [
       "Text(0.5, 1.0, 'Los 15 paises con precio de intrnet mas altos')"
      ]
     },
     "execution_count": 55,
     "metadata": {},
     "output_type": "execute_result"
    },
    {
     "data": {
      "image/png": "[encoded data removed]",
      "text/plain": [
       "<Figure size 720x576 with 1 Axes>"
      ]
     },
     "metadata": {
      "needs_background": "light"
     },
     "output_type": "display_data"
    }
   ],
   "source": [
    "plt.figure(figsize=(10,8))\n",
    "sns.barplot(y='Country',\n",
    "            x='InternetPrice',\n",
    "            data=df_15_max,\n",
    "            hue='Income_Group',\n",
    "            hue_order=[\"Ingreso alto\",\"Ingreso mediano alto\",\"Países de ingreso mediano bajo\",\"Países de ingreso bajo\"],\n",
    "    \n",
    "            dodge=False,\n",
    "           ci=None)\n",
    "\n",
    "plt.title('Los 15 paises con precio de intrnet mas altos')"
   ]
  },
  {
   "cell_type": "markdown",
   "metadata": {},
   "source": [
    "Mediante un correlagrama se trata de ver si existe relacion entre los variables"
   ]
  },
  {
   "cell_type": "code",
   "execution_count": 22,
   "metadata": {},
   "outputs": [
    {
     "data": {
      "text/plain": [
       "<AxesSubplot:>"
      ]
     },
     "execution_count": 22,
     "metadata": {},
     "output_type": "execute_result"
    },
    {
     "data": {
      "image/png": "[encoded data removed]",
      "text/plain": [
       "<Figure size 504x504 with 2 Axes>"
      ]
     },
     "metadata": {
      "needs_background": "light"
     },
     "output_type": "display_data"
    }
   ],
   "source": [
    "plt.figure(figsize=(7,7))\n",
    "sns.heatmap(df_resultado.corr(),\n",
    "            vmin=-1,\n",
    "            vmax=1,\n",
    "            cmap=sns.diverging_palette(145, 280, s=75, l=25, n=10),\n",
    "            square=True,\n",
    "            linewidths=.1,\n",
    "            annot=True)"
   ]
  },
  {
   "cell_type": "code",
   "execution_count": 23,
   "metadata": {},
   "outputs": [
    {
     "name": "stderr",
     "output_type": "stream",
     "text": [
      "/Library/Frameworks/Python.framework/Versions/3.7/lib/python3.7/site-packages/seaborn/_decorators.py:43: FutureWarning:\n",
      "\n",
      "Pass the following variable as a keyword arg: x. From version 0.12, the only valid positional argument will be `data`, and passing other arguments without an explicit keyword will result in an error or misinterpretation.\n",
      "\n",
      "/Library/Frameworks/Python.framework/Versions/3.7/lib/python3.7/site-packages/seaborn/distributions.py:2619: FutureWarning:\n",
      "\n",
      "`distplot` is a deprecated function and will be removed in a future version. Please adapt your code to use either `displot` (a figure-level function with similar flexibility) or `histplot` (an axes-level function for histograms).\n",
      "\n"
     ]
    },
    {
     "data": {
      "text/plain": [
       "<AxesSubplot:xlabel='population internet use 2020'>"
      ]
     },
     "execution_count": 23,
     "metadata": {},
     "output_type": "execute_result"
    },
    {
     "data": {
      "image/png": "[encoded data removed]",
      "text/plain": [
       "<Figure size 720x360 with 2 Axes>"
      ]
     },
     "metadata": {
      "needs_background": "light"
     },
     "output_type": "display_data"
    }
   ],
   "source": [
    "f, (axi1,axi2) = plt.subplots(2, 1, figsize=(10,5), sharex=True);\n",
    "sns.boxplot(df_resultado[\"population internet use 2020\"],ax=axi1);\n",
    "sns.distplot(df_resultado[\"population internet use 2020\"],\n",
    "             kde=False,\n",
    "             bins=100,ax=axi2)"
   ]
  },
  {
   "cell_type": "code",
   "execution_count": 24,
   "metadata": {},
   "outputs": [
    {
     "name": "stdout",
     "output_type": "stream",
     "text": [
      "Valor del percentil 0: 19.9\n",
      "Valor del percentil 25: 64.6\n",
      "Valor del percentil 50: 80.53018608\n",
      "Valor del percentil 75: 89.81294133\n",
      "Valor del percentil 100: 100.0\n",
      "Valor media: 38.59\n"
     ]
    }
   ],
   "source": [
    "p_0 = np.percentile(df_resultado[\"population internet use 2020\"], 0) #Q0 #Min\n",
    "p_25 = np.percentile(df_resultado[\"population internet use 2020\"], 25) #Q1\n",
    "p_50 = np.percentile(df_resultado[\"population internet use 2020\"], 50) #Q2 #Mediana 中位数\n",
    "p_75 = np.percentile(df_resultado[\"population internet use 2020\"], 75) #Q3\n",
    "p_100 = np.percentile(df_resultado[\"population internet use 2020\"], 100) #Q4 #Max los cualtiles.\n",
    "\n",
    "print(\"Valor del percentil 0:\", p_0)\n",
    "print(\"Valor del percentil 25:\", p_25)\n",
    "print(\"Valor del percentil 50:\", p_50)\n",
    "print(\"Valor del percentil 75:\", p_75)\n",
    "print(\"Valor del percentil 100:\", p_100)\n",
    "print(\"Valor media:\", round(df_resultado[\"InternetPrice\"].mean(),2) )"
   ]
  },
  {
   "cell_type": "code",
   "execution_count": 25,
   "metadata": {},
   "outputs": [
    {
     "data": {
      "text/plain": [
       "(-0.5, 10.0)"
      ]
     },
     "execution_count": 25,
     "metadata": {},
     "output_type": "execute_result"
    },
    {
     "data": {
      "image/png": "[encoded data removed]",
      "text/plain": [
       "<Figure size 864x576 with 1 Axes>"
      ]
     },
     "metadata": {
      "needs_background": "light"
     },
     "output_type": "display_data"
    }
   ],
   "source": [
    "plt.figure(figsize=(12,8))\n",
    "sns.scatterplot(x=df_resultado['PIB 2020 (cien millones)'],\n",
    "                y=df_resultado[\"population internet use 2020\"],\n",
    "                hue = df_resultado['Income_Group'], # separarlo por la clasificasion del pais\n",
    "               s=100)\n",
    "\n",
    "plt.xlim(left=-0.5,right=10)"
   ]
  },
  {
   "cell_type": "code",
   "execution_count": 56,
   "metadata": {},
   "outputs": [
    {
     "data": {
      "text/plain": [
       "(15.0, 100.0)"
      ]
     },
     "execution_count": 56,
     "metadata": {},
     "output_type": "execute_result"
    },
    {
     "data": {
      "image/png": "[encoded data removed]",
      "text/plain": [
       "<Figure size 864x576 with 1 Axes>"
      ]
     },
     "metadata": {
      "needs_background": "light"
     },
     "output_type": "display_data"
    }
   ],
   "source": [
    "plt.figure(figsize=(12,8))\n",
    "sns.scatterplot(y=df_resultado[\"PIB_per_capita 2020\"],\n",
    "                x=df_resultado[\"population internet use 2020\"],\n",
    "                hue = df_resultado['Income_Group'],\n",
    "                hue_order=[\"Ingreso alto\",\"Ingreso mediano alto\",\"Países de ingreso mediano bajo\",\"Países de ingreso bajo\"], # separarlo por la clasificasion del pais\n",
    "               s=100)\n",
    "\n",
    "plt.xlim(left=15,right=100)"
   ]
  },
  {
   "cell_type": "code",
   "execution_count": 27,
   "metadata": {},
   "outputs": [],
   "source": [
    "df_15_min_poblacion = df_resultado.sort_values(by=[\"population internet use 2020\"],ascending=True).head(15)\n"
   ]
  },
  {
   "cell_type": "code",
   "execution_count": 52,
   "metadata": {},
   "outputs": [
    {
     "data": {
      "text/plain": [
       "Text(0.5, 1.0, 'Los 15 paises con menos usuario de internet')"
      ]
     },
     "execution_count": 52,
     "metadata": {},
     "output_type": "execute_result"
    },
    {
     "data": {
      "image/png": "[encoded data removed]",
      "text/plain": [
       "<Figure size 720x576 with 1 Axes>"
      ]
     },
     "metadata": {
      "needs_background": "light"
     },
     "output_type": "display_data"
    }
   ],
   "source": [
    "plt.figure(figsize=(10,8))\n",
    "sns.barplot(y='Country',\n",
    "            x=\"population internet use 2020\",\n",
    "            data=df_15_min_poblacion,\n",
    "            hue='Income_Group',\n",
    "            hue_order=[\"Ingreso alto\",\"Ingreso mediano alto\",\"Países de ingreso mediano bajo\",\"Países de ingreso bajo\"],\n",
    "            dodge=False,\n",
    "           ci=None)\n",
    "\n",
    "plt.title('Los 15 paises con menos usuario de internet')"
   ]
  },
  {
   "cell_type": "code",
   "execution_count": 29,
   "metadata": {},
   "outputs": [
    {
     "data": {
      "application/vnd.plotly.v1+json": {
       "config": {
        "plotlyServerURL": "https://plot.ly"
       },
       "data": [
        {
         "coloraxis": "coloraxis",
         "geo": "geo",
         "hovertemplate": "Country=%{location}<br>population internet use 2020=%{z}<extra></extra>",
         "locationmode": "country names",
         "locations": [
          "Albania",
          "Algeria",
          "Argentina",
          "Armenia",
          "Australia",
          "Austria",
          "Azerbaijan",
          "Bahrain",
          "Bangladesh",
          "Belarus",
          "Belgium",
          "Bolivia",
          "Bosnia and Herzegovina",
          "Botswana",
          "Brazil",
          "Brunei Darussalam",
          "Bulgaria",
          "Canada",
          "Chile",
          "Colombia",
          "Costa Rica",
          "Croatia",
          "Cyprus",
          "Czech Republic",
          "Dominican Republic",
          "Ecuador",
          "Egypt, Arab Rep.",
          "El Salvador",
          "Estonia",
          "Finland",
          "France",
          "Georgia",
          "Germany",
          "Ghana",
          "Greece",
          "Guatemala",
          "Honduras",
          "Hungary",
          "India",
          "Indonesia",
          "Iran, Islamic Rep.",
          "Iraq",
          "Ireland",
          "Israel",
          "Italy",
          "Japan",
          "Kazakhstan",
          "Kenya",
          "Kuwait",
          "Kyrgyz Republic",
          "Latvia",
          "Lebanon",
          "Lithuania",
          "Luxembourg",
          "Malaysia",
          "Maldives",
          "Mexico",
          "Montenegro",
          "Morocco",
          "Namibia",
          "Nepal",
          "New Zealand",
          "Nicaragua",
          "Nigeria",
          "North Macedonia",
          "Norway",
          "Oman",
          "Pakistan",
          "Panama",
          "Paraguay",
          "China",
          "Peru",
          "Philippines",
          "Poland",
          "Portugal",
          "Qatar",
          "Romania",
          "Russian Federation",
          "Saudi Arabia",
          "Serbia",
          "Singapore",
          "Slovak Republic",
          "Slovenia",
          "South Africa",
          "Korea, Rep.",
          "Spain",
          "Sri Lanka",
          "Sweden",
          "Switzerland",
          "Tanzania",
          "Thailand",
          "Bahamas, The",
          "Tunisia",
          "Uganda",
          "Ukraine",
          "United Arab Emirates",
          "United Kingdom",
          "United States",
          "Uruguay",
          "Uzbekistan",
          "Zimbabwe"
         ],
         "name": "",
         "type": "choropleth",
         "z": [
          72.24,
          62.9,
          85.5,
          76.51,
          89.6,
          87.52942813,
          84.59999573,
          99.67,
          24.8,
          85.09,
          91.52641629,
          59.94010155,
          73.21,
          64,
          81.34269353,
          95,
          70.16,
          96.97,
          88.3,
          69.79,
          80.53018608,
          78.32093274,
          90.80194723,
          81.33889705,
          76.9,
          64.6,
          71.91420097,
          54.60137027,
          89.05828666,
          92.17,
          84.8,
          72.53158402,
          89.81294133,
          58,
          78.11584474,
          49.97,
          42.05,
          84.77115202,
          43,
          53.72649449,
          84.11087002,
          60,
          91.99989097,
          90.12734091,
          70.48342785,
          90.21945812,
          85.94259898,
          29.5,
          99.10587967,
          51,
          88.9,
          84.1,
          83.05555096,
          98.82242384,
          89.55501192,
          62.93,
          71.96819405,
          77.60879306,
          84.12036305,
          41,
          37.7,
          91.5,
          45.2,
          35.5,
          81.40553811,
          97,
          95.23,
          25,
          64.25,
          73.95751114,
          70.40477542,
          65.25,
          49.8,
          83.18488715,
          78.26166044,
          99.65284913,
          78.45526741,
          84.99467026,
          97.86,
          78.36804077,
          92.00434653,
          89.9209082,
          86.60130109,
          70,
          96.50505968,
          93.20564892,
          35,
          94.53943122,
          94.2,
          22,
          77.84374066,
          87,
          71.9,
          19.9,
          75.03790912,
          100,
          94.81820132,
          90.9,
          86.1,
          71.1,
          29.3
         ]
        }
       ],
       "layout": {
        "coloraxis": {
         "colorbar": {
          "dtick": 7,
          "ticks": "outside",
          "tickvals": [
           5,
           10,
           30,
           50,
           70,
           100
          ],
          "title": {
           "text": "population internet use 2020"
          }
         },
         "colorscale": [
          [
           0,
           "rgb(255,245,240)"
          ],
          [
           0.125,
           "rgb(254,224,210)"
          ],
          [
           0.25,
           "rgb(252,187,161)"
          ],
          [
           0.375,
           "rgb(252,146,114)"
          ],
          [
           0.5,
           "rgb(251,106,74)"
          ],
          [
           0.625,
           "rgb(239,59,44)"
          ],
          [
           0.75,
           "rgb(203,24,29)"
          ],
          [
           0.875,
           "rgb(165,15,21)"
          ],
          [
           1,
           "rgb(103,0,13)"
          ]
         ]
        },
        "geo": {
         "center": {},
         "domain": {
          "x": [
           0,
           1
          ],
          "y": [
           0,
           1
          ]
         },
         "scope": "world"
        },
        "legend": {
         "tracegroupgap": 0
        },
        "margin": {
         "b": 0,
         "l": 0,
         "r": 0,
         "t": 0
        },
        "template": {
         "data": {
          "bar": [
           {
            "error_x": {
             "color": "#2a3f5f"
            },
            "error_y": {
             "color": "#2a3f5f"
            },
            "marker": {
             "line": {
              "color": "#E5ECF6",
              "width": 0.5
             },
             "pattern": {
              "fillmode": "overlay",
              "size": 10,
              "solidity": 0.2
             }
            },
            "type": "bar"
           }
          ],
          "barpolar": [
           {
            "marker": {
             "line": {
              "color": "#E5ECF6",
              "width": 0.5
             },
             "pattern": {
              "fillmode": "overlay",
              "size": 10,
              "solidity": 0.2
             }
            },
            "type": "barpolar"
           }
          ],
          "carpet": [
           {
            "aaxis": {
             "endlinecolor": "#2a3f5f",
             "gridcolor": "white",
             "linecolor": "white",
             "minorgridcolor": "white",
             "startlinecolor": "#2a3f5f"
            },
            "baxis": {
             "endlinecolor": "#2a3f5f",
             "gridcolor": "white",
             "linecolor": "white",
             "minorgridcolor": "white",
             "startlinecolor": "#2a3f5f"
            },
            "type": "carpet"
           }
          ],
          "choropleth": [
           {
            "colorbar": {
             "outlinewidth": 0,
             "ticks": ""
            },
            "type": "choropleth"
           }
          ],
          "contour": [
           {
            "colorbar": {
             "outlinewidth": 0,
             "ticks": ""
            },
            "colorscale": [
             [
              0,
              "#0d0887"
             ],
             [
              0.1111111111111111,
              "#46039f"
             ],
             [
              0.2222222222222222,
              "#7201a8"
             ],
             [
              0.3333333333333333,
              "#9c179e"
             ],
             [
              0.4444444444444444,
              "#bd3786"
             ],
             [
              0.5555555555555556,
              "#d8576b"
             ],
             [
              0.6666666666666666,
              "#ed7953"
             ],
             [
              0.7777777777777778,
              "#fb9f3a"
             ],
             [
              0.8888888888888888,
              "#fdca26"
             ],
             [
              1,
              "#f0f921"
             ]
            ],
            "type": "contour"
           }
          ],
          "contourcarpet": [
           {
            "colorbar": {
             "outlinewidth": 0,
             "ticks": ""
            },
            "type": "contourcarpet"
           }
          ],
          "heatmap": [
           {
            "colorbar": {
             "outlinewidth": 0,
             "ticks": ""
            },
            "colorscale": [
             [
              0,
              "#0d0887"
             ],
             [
              0.1111111111111111,
              "#46039f"
             ],
             [
              0.2222222222222222,
              "#7201a8"
             ],
             [
              0.3333333333333333,
              "#9c179e"
             ],
             [
              0.4444444444444444,
              "#bd3786"
             ],
             [
              0.5555555555555556,
              "#d8576b"
             ],
             [
              0.6666666666666666,
              "#ed7953"
             ],
             [
              0.7777777777777778,
              "#fb9f3a"
             ],
             [
              0.8888888888888888,
              "#fdca26"
             ],
             [
              1,
              "#f0f921"
             ]
            ],
            "type": "heatmap"
           }
          ],
          "heatmapgl": [
           {
            "colorbar": {
             "outlinewidth": 0,
             "ticks": ""
            },
            "colorscale": [
             [
              0,
              "#0d0887"
             ],
             [
              0.1111111111111111,
              "#46039f"
             ],
             [
              0.2222222222222222,
              "#7201a8"
             ],
             [
              0.3333333333333333,
              "#9c179e"
             ],
             [
              0.4444444444444444,
              "#bd3786"
             ],
             [
              0.5555555555555556,
              "#d8576b"
             ],
             [
              0.6666666666666666,
              "#ed7953"
             ],
             [
              0.7777777777777778,
              "#fb9f3a"
             ],
             [
              0.8888888888888888,
              "#fdca26"
             ],
             [
              1,
              "#f0f921"
             ]
            ],
            "type": "heatmapgl"
           }
          ],
          "histogram": [
           {
            "marker": {
             "pattern": {
              "fillmode": "overlay",
              "size": 10,
              "solidity": 0.2
             }
            },
            "type": "histogram"
           }
          ],
          "histogram2d": [
           {
            "colorbar": {
             "outlinewidth": 0,
             "ticks": ""
            },
            "colorscale": [
             [
              0,
              "#0d0887"
             ],
             [
              0.1111111111111111,
              "#46039f"
             ],
             [
              0.2222222222222222,
              "#7201a8"
             ],
             [
              0.3333333333333333,
              "#9c179e"
             ],
             [
              0.4444444444444444,
              "#bd3786"
             ],
             [
              0.5555555555555556,
              "#d8576b"
             ],
             [
              0.6666666666666666,
              "#ed7953"
             ],
             [
              0.7777777777777778,
              "#fb9f3a"
             ],
             [
              0.8888888888888888,
              "#fdca26"
             ],
             [
              1,
              "#f0f921"
             ]
            ],
            "type": "histogram2d"
           }
          ],
          "histogram2dcontour": [
           {
            "colorbar": {
             "outlinewidth": 0,
             "ticks": ""
            },
            "colorscale": [
             [
              0,
              "#0d0887"
             ],
             [
              0.1111111111111111,
              "#46039f"
             ],
             [
              0.2222222222222222,
              "#7201a8"
             ],
             [
              0.3333333333333333,
              "#9c179e"
             ],
             [
              0.4444444444444444,
              "#bd3786"
             ],
             [
              0.5555555555555556,
              "#d8576b"
             ],
             [
              0.6666666666666666,
              "#ed7953"
             ],
             [
              0.7777777777777778,
              "#fb9f3a"
             ],
             [
              0.8888888888888888,
              "#fdca26"
             ],
             [
              1,
              "#f0f921"
             ]
            ],
            "type": "histogram2dcontour"
           }
          ],
          "mesh3d": [
           {
            "colorbar": {
             "outlinewidth": 0,
             "ticks": ""
            },
            "type": "mesh3d"
           }
          ],
          "parcoords": [
           {
            "line": {
             "colorbar": {
              "outlinewidth": 0,
              "ticks": ""
             }
            },
            "type": "parcoords"
           }
          ],
          "pie": [
           {
            "automargin": true,
            "type": "pie"
           }
          ],
          "scatter": [
           {
            "fillpattern": {
             "fillmode": "overlay",
             "size": 10,
             "solidity": 0.2
            },
            "type": "scatter"
           }
          ],
          "scatter3d": [
           {
            "line": {
             "colorbar": {
              "outlinewidth": 0,
              "ticks": ""
             }
            },
            "marker": {
             "colorbar": {
              "outlinewidth": 0,
              "ticks": ""
             }
            },
            "type": "scatter3d"
           }
          ],
          "scattercarpet": [
           {
            "marker": {
             "colorbar": {
              "outlinewidth": 0,
              "ticks": ""
             }
            },
            "type": "scattercarpet"
           }
          ],
          "scattergeo": [
           {
            "marker": {
             "colorbar": {
              "outlinewidth": 0,
              "ticks": ""
             }
            },
            "type": "scattergeo"
           }
          ],
          "scattergl": [
           {
            "marker": {
             "colorbar": {
              "outlinewidth": 0,
              "ticks": ""
             }
            },
            "type": "scattergl"
           }
          ],
          "scattermapbox": [
           {
            "marker": {
             "colorbar": {
              "outlinewidth": 0,
              "ticks": ""
             }
            },
            "type": "scattermapbox"
           }
          ],
          "scatterpolar": [
           {
            "marker": {
             "colorbar": {
              "outlinewidth": 0,
              "ticks": ""
             }
            },
            "type": "scatterpolar"
           }
          ],
          "scatterpolargl": [
           {
            "marker": {
             "colorbar": {
              "outlinewidth": 0,
              "ticks": ""
             }
            },
            "type": "scatterpolargl"
           }
          ],
          "scatterternary": [
           {
            "marker": {
             "colorbar": {
              "outlinewidth": 0,
              "ticks": ""
             }
            },
            "type": "scatterternary"
           }
          ],
          "surface": [
           {
            "colorbar": {
             "outlinewidth": 0,
             "ticks": ""
            },
            "colorscale": [
             [
              0,
              "#0d0887"
             ],
             [
              0.1111111111111111,
              "#46039f"
             ],
             [
              0.2222222222222222,
              "#7201a8"
             ],
             [
              0.3333333333333333,
              "#9c179e"
             ],
             [
              0.4444444444444444,
              "#bd3786"
             ],
             [
              0.5555555555555556,
              "#d8576b"
             ],
             [
              0.6666666666666666,
              "#ed7953"
             ],
             [
              0.7777777777777778,
              "#fb9f3a"
             ],
             [
              0.8888888888888888,
              "#fdca26"
             ],
             [
              1,
              "#f0f921"
             ]
            ],
            "type": "surface"
           }
          ],
          "table": [
           {
            "cells": {
             "fill": {
              "color": "#EBF0F8"
             },
             "line": {
              "color": "white"
             }
            },
            "header": {
             "fill": {
              "color": "#C8D4E3"
             },
             "line": {
              "color": "white"
             }
            },
            "type": "table"
           }
          ]
         },
         "layout": {
          "annotationdefaults": {
           "arrowcolor": "#2a3f5f",
           "arrowhead": 0,
           "arrowwidth": 1
          },
          "autotypenumbers": "strict",
          "coloraxis": {
           "colorbar": {
            "outlinewidth": 0,
            "ticks": ""
           }
          },
          "colorscale": {
           "diverging": [
            [
             0,
             "#8e0152"
            ],
            [
             0.1,
             "#c51b7d"
            ],
            [
             0.2,
             "#de77ae"
            ],
            [
             0.3,
             "#f1b6da"
            ],
            [
             0.4,
             "#fde0ef"
            ],
            [
             0.5,
             "#f7f7f7"
            ],
            [
             0.6,
             "#e6f5d0"
            ],
            [
             0.7,
             "#b8e186"
            ],
            [
             0.8,
             "#7fbc41"
            ],
            [
             0.9,
             "#4d9221"
            ],
            [
             1,
             "#276419"
            ]
           ],
           "sequential": [
            [
             0,
             "#0d0887"
            ],
            [
             0.1111111111111111,
             "#46039f"
            ],
            [
             0.2222222222222222,
             "#7201a8"
            ],
            [
             0.3333333333333333,
             "#9c179e"
            ],
            [
             0.4444444444444444,
             "#bd3786"
            ],
            [
             0.5555555555555556,
             "#d8576b"
            ],
            [
             0.6666666666666666,
             "#ed7953"
            ],
            [
             0.7777777777777778,
             "#fb9f3a"
            ],
            [
             0.8888888888888888,
             "#fdca26"
            ],
            [
             1,
             "#f0f921"
            ]
           ],
           "sequentialminus": [
            [
             0,
             "#0d0887"
            ],
            [
             0.1111111111111111,
             "#46039f"
            ],
            [
             0.2222222222222222,
             "#7201a8"
            ],
            [
             0.3333333333333333,
             "#9c179e"
            ],
            [
             0.4444444444444444,
             "#bd3786"
            ],
            [
             0.5555555555555556,
             "#d8576b"
            ],
            [
             0.6666666666666666,
             "#ed7953"
            ],
            [
             0.7777777777777778,
             "#fb9f3a"
            ],
            [
             0.8888888888888888,
             "#fdca26"
            ],
            [
             1,
             "#f0f921"
            ]
           ]
          },
          "colorway": [
           "#636efa",
           "#EF553B",
           "#00cc96",
           "#ab63fa",
           "#FFA15A",
           "#19d3f3",
           "#FF6692",
           "#B6E880",
           "#FF97FF",
           "#FECB52"
          ],
          "font": {
           "color": "#2a3f5f"
          },
          "geo": {
           "bgcolor": "white",
           "lakecolor": "white",
           "landcolor": "#E5ECF6",
           "showlakes": true,
           "showland": true,
           "subunitcolor": "white"
          },
          "hoverlabel": {
           "align": "left"
          },
          "hovermode": "closest",
          "mapbox": {
           "style": "light"
          },
          "paper_bgcolor": "white",
          "plot_bgcolor": "#E5ECF6",
          "polar": {
           "angularaxis": {
            "gridcolor": "white",
            "linecolor": "white",
            "ticks": ""
           },
           "bgcolor": "#E5ECF6",
           "radialaxis": {
            "gridcolor": "white",
            "linecolor": "white",
            "ticks": ""
           }
          },
          "scene": {
           "xaxis": {
            "backgroundcolor": "#E5ECF6",
            "gridcolor": "white",
            "gridwidth": 2,
            "linecolor": "white",
            "showbackground": true,
            "ticks": "",
            "zerolinecolor": "white"
           },
           "yaxis": {
            "backgroundcolor": "#E5ECF6",
            "gridcolor": "white",
            "gridwidth": 2,
            "linecolor": "white",
            "showbackground": true,
            "ticks": "",
            "zerolinecolor": "white"
           },
           "zaxis": {
            "backgroundcolor": "#E5ECF6",
            "gridcolor": "white",
            "gridwidth": 2,
            "linecolor": "white",
            "showbackground": true,
            "ticks": "",
            "zerolinecolor": "white"
           }
          },
          "shapedefaults": {
           "line": {
            "color": "#2a3f5f"
           }
          },
          "ternary": {
           "aaxis": {
            "gridcolor": "white",
            "linecolor": "white",
            "ticks": ""
           },
           "baxis": {
            "gridcolor": "white",
            "linecolor": "white",
            "ticks": ""
           },
           "bgcolor": "#E5ECF6",
           "caxis": {
            "gridcolor": "white",
            "linecolor": "white",
            "ticks": ""
           }
          },
          "title": {
           "x": 0.05
          },
          "xaxis": {
           "automargin": true,
           "gridcolor": "white",
           "linecolor": "white",
           "ticks": "",
           "title": {
            "standoff": 15
           },
           "zerolinecolor": "white",
           "zerolinewidth": 2
          },
          "yaxis": {
           "automargin": true,
           "gridcolor": "white",
           "linecolor": "white",
           "ticks": "",
           "title": {
            "standoff": 15
           },
           "zerolinecolor": "white",
           "zerolinewidth": 2
          }
         }
        }
       }
      }
     },
     "metadata": {},
     "output_type": "display_data"
    }
   ],
   "source": [
    "fig = px.choropleth(df_resultado, locations='Country', locationmode='country names',scope='world',color=\"population internet use 2020\",  color_continuous_scale='reds')\n",
    "fig.update_layout(margin={'r':0,'t':0,'l':0,'b':0}, coloraxis_colorbar=dict(\n",
    "    title = \"population internet use 2020\",\n",
    "    ticks = 'outside',\n",
    "    tickvals = [5,10,30,50,70,100],\n",
    "    dtick = 7\n",
    "))"
   ]
  },
  {
   "cell_type": "code",
   "execution_count": 37,
   "metadata": {},
   "outputs": [
    {
     "data": {
      "text/plain": [
       "<AxesSubplot:xlabel='PIB_per_capita 2020', ylabel='Broadband Mbps'>"
      ]
     },
     "execution_count": 37,
     "metadata": {},
     "output_type": "execute_result"
    },
    {
     "data": {
      "image/png": "[encoded data removed]",
      "text/plain": [
       "<Figure size 864x576 with 1 Axes>"
      ]
     },
     "metadata": {
      "needs_background": "light"
     },
     "output_type": "display_data"
    }
   ],
   "source": [
    "plt.figure(figsize=(12,8))\n",
    "sns.scatterplot(y=df_resultado['Broadband Mbps'],\n",
    "                x=df_resultado['PIB_per_capita 2020'],\n",
    "                hue = df_resultado['Income_Group'], # separarlo por la clasificasion del pais\n",
    "               s=100)"
   ]
  },
  {
   "cell_type": "code",
   "execution_count": 57,
   "metadata": {},
   "outputs": [
    {
     "data": {
      "text/plain": [
       "<AxesSubplot:xlabel='population internet use 2020', ylabel='Broadband Mbps'>"
      ]
     },
     "execution_count": 57,
     "metadata": {},
     "output_type": "execute_result"
    },
    {
     "data": {
      "image/png": "[encoded data removed]",
      "text/plain": [
       "<Figure size 864x576 with 1 Axes>"
      ]
     },
     "metadata": {
      "needs_background": "light"
     },
     "output_type": "display_data"
    }
   ],
   "source": [
    "plt.figure(figsize=(12,8))\n",
    "sns.scatterplot(y=df_resultado['Broadband Mbps'],\n",
    "                x=df_resultado['population internet use 2020'],\n",
    "                hue = df_resultado['Income_Group'], \n",
    "                hue_order=[\"Ingreso alto\",\"Ingreso mediano alto\",\"Países de ingreso mediano bajo\",\"Países de ingreso bajo\"],# separarlo por la clasificasion del pais\n",
    "               s=100)"
   ]
  },
  {
   "cell_type": "code",
   "execution_count": 35,
   "metadata": {},
   "outputs": [
    {
     "data": {
      "text/html": [
       "<div>\n",
       "<style scoped>\n",
       "    .dataframe tbody tr th:only-of-type {\n",
       "        vertical-align: middle;\n",
       "    }\n",
       "\n",
       "    .dataframe tbody tr th {\n",
       "        vertical-align: top;\n",
       "    }\n",
       "\n",
       "    .dataframe thead th {\n",
       "        text-align: right;\n",
       "    }\n",
       "</style>\n",
       "<table border=\"1\" class=\"dataframe\">\n",
       "  <thead>\n",
       "    <tr style=\"text-align: right;\">\n",
       "      <th></th>\n",
       "      <th>Country</th>\n",
       "      <th>InternetPrice</th>\n",
       "      <th>Country Code</th>\n",
       "      <th>population internet use 2020</th>\n",
       "      <th>PIB 2020 (cien millones)</th>\n",
       "      <th>PIB_per_capita 2020</th>\n",
       "      <th>proporcion industris sobre PIB</th>\n",
       "      <th>Income_Group</th>\n",
       "      <th>Broadband Speed Rank</th>\n",
       "      <th>Broadband Mbps</th>\n",
       "    </tr>\n",
       "  </thead>\n",
       "  <tbody>\n",
       "    <tr>\n",
       "      <th>100</th>\n",
       "      <td>Zimbabwe</td>\n",
       "      <td>104.830000</td>\n",
       "      <td>ZWE</td>\n",
       "      <td>29.300000</td>\n",
       "      <td>0.180512</td>\n",
       "      <td>1214.509820</td>\n",
       "      <td>35.817145</td>\n",
       "      <td>Países de ingreso mediano bajo</td>\n",
       "      <td>167.0</td>\n",
       "      <td>5.21</td>\n",
       "    </tr>\n",
       "    <tr>\n",
       "      <th>13</th>\n",
       "      <td>Botswana</td>\n",
       "      <td>73.690000</td>\n",
       "      <td>BWA</td>\n",
       "      <td>64.000000</td>\n",
       "      <td>0.150619</td>\n",
       "      <td>6404.899932</td>\n",
       "      <td>27.769395</td>\n",
       "      <td>Ingreso mediano alto</td>\n",
       "      <td>160.0</td>\n",
       "      <td>7.22</td>\n",
       "    </tr>\n",
       "    <tr>\n",
       "      <th>51</th>\n",
       "      <td>Lebanon</td>\n",
       "      <td>51.900000</td>\n",
       "      <td>LBN</td>\n",
       "      <td>84.100000</td>\n",
       "      <td>0.317352</td>\n",
       "      <td>4649.547646</td>\n",
       "      <td>17.639195</td>\n",
       "      <td>Países de ingreso mediano bajo</td>\n",
       "      <td>159.0</td>\n",
       "      <td>7.27</td>\n",
       "    </tr>\n",
       "    <tr>\n",
       "      <th>92</th>\n",
       "      <td>Tunisia</td>\n",
       "      <td>15.200000</td>\n",
       "      <td>TUN</td>\n",
       "      <td>71.900000</td>\n",
       "      <td>0.416203</td>\n",
       "      <td>3521.591948</td>\n",
       "      <td>21.635270</td>\n",
       "      <td>Países de ingreso mediano bajo</td>\n",
       "      <td>158.0</td>\n",
       "      <td>7.64</td>\n",
       "    </tr>\n",
       "    <tr>\n",
       "      <th>59</th>\n",
       "      <td>Namibia</td>\n",
       "      <td>48.160000</td>\n",
       "      <td>NAM</td>\n",
       "      <td>41.000000</td>\n",
       "      <td>0.106192</td>\n",
       "      <td>4179.278066</td>\n",
       "      <td>25.848167</td>\n",
       "      <td>Ingreso mediano alto</td>\n",
       "      <td>156.0</td>\n",
       "      <td>8.29</td>\n",
       "    </tr>\n",
       "    <tr>\n",
       "      <th>47</th>\n",
       "      <td>Kenya</td>\n",
       "      <td>59.880000</td>\n",
       "      <td>KEN</td>\n",
       "      <td>29.500000</td>\n",
       "      <td>1.010137</td>\n",
       "      <td>1878.580703</td>\n",
       "      <td>17.404452</td>\n",
       "      <td>Países de ingreso mediano bajo</td>\n",
       "      <td>153.0</td>\n",
       "      <td>8.91</td>\n",
       "    </tr>\n",
       "    <tr>\n",
       "      <th>67</th>\n",
       "      <td>Pakistan</td>\n",
       "      <td>23.098333</td>\n",
       "      <td>PAK</td>\n",
       "      <td>25.000000</td>\n",
       "      <td>2.626100</td>\n",
       "      <td>1188.859757</td>\n",
       "      <td>18.602069</td>\n",
       "      <td>Países de ingreso mediano bajo</td>\n",
       "      <td>151.0</td>\n",
       "      <td>9.12</td>\n",
       "    </tr>\n",
       "    <tr>\n",
       "      <th>89</th>\n",
       "      <td>Tanzania</td>\n",
       "      <td>72.670000</td>\n",
       "      <td>TZA</td>\n",
       "      <td>22.000000</td>\n",
       "      <td>0.624097</td>\n",
       "      <td>1076.469706</td>\n",
       "      <td>28.674935</td>\n",
       "      <td>Países de ingreso mediano bajo</td>\n",
       "      <td>148.0</td>\n",
       "      <td>9.45</td>\n",
       "    </tr>\n",
       "    <tr>\n",
       "      <th>93</th>\n",
       "      <td>Uganda</td>\n",
       "      <td>69.060000</td>\n",
       "      <td>UGA</td>\n",
       "      <td>19.900000</td>\n",
       "      <td>0.376004</td>\n",
       "      <td>822.027682</td>\n",
       "      <td>26.490525</td>\n",
       "      <td>Países de ingreso bajo</td>\n",
       "      <td>145.0</td>\n",
       "      <td>9.57</td>\n",
       "    </tr>\n",
       "    <tr>\n",
       "      <th>1</th>\n",
       "      <td>Algeria</td>\n",
       "      <td>45.180000</td>\n",
       "      <td>DZA</td>\n",
       "      <td>62.900000</td>\n",
       "      <td>1.450092</td>\n",
       "      <td>3306.858208</td>\n",
       "      <td>20.282297</td>\n",
       "      <td>Países de ingreso mediano bajo</td>\n",
       "      <td>144.0</td>\n",
       "      <td>9.72</td>\n",
       "    </tr>\n",
       "    <tr>\n",
       "      <th>63</th>\n",
       "      <td>Nigeria</td>\n",
       "      <td>40.950000</td>\n",
       "      <td>NGA</td>\n",
       "      <td>35.500000</td>\n",
       "      <td>4.322938</td>\n",
       "      <td>2097.092473</td>\n",
       "      <td>28.220506</td>\n",
       "      <td>Países de ingreso mediano bajo</td>\n",
       "      <td>142.0</td>\n",
       "      <td>10.06</td>\n",
       "    </tr>\n",
       "    <tr>\n",
       "      <th>40</th>\n",
       "      <td>Iran, Islamic Rep.</td>\n",
       "      <td>19.700000</td>\n",
       "      <td>IRN</td>\n",
       "      <td>84.110870</td>\n",
       "      <td>2.034713</td>\n",
       "      <td>2422.480657</td>\n",
       "      <td>35.731857</td>\n",
       "      <td>Países de ingreso mediano bajo</td>\n",
       "      <td>141.0</td>\n",
       "      <td>10.39</td>\n",
       "    </tr>\n",
       "    <tr>\n",
       "      <th>55</th>\n",
       "      <td>Maldives</td>\n",
       "      <td>109.220000</td>\n",
       "      <td>MDV</td>\n",
       "      <td>62.930000</td>\n",
       "      <td>0.037428</td>\n",
       "      <td>6924.105745</td>\n",
       "      <td>11.829545</td>\n",
       "      <td>Ingreso mediano alto</td>\n",
       "      <td>137.0</td>\n",
       "      <td>10.97</td>\n",
       "    </tr>\n",
       "    <tr>\n",
       "      <th>58</th>\n",
       "      <td>Morocco</td>\n",
       "      <td>28.956667</td>\n",
       "      <td>MAR</td>\n",
       "      <td>84.120363</td>\n",
       "      <td>1.147251</td>\n",
       "      <td>3058.691689</td>\n",
       "      <td>26.132218</td>\n",
       "      <td>Países de ingreso mediano bajo</td>\n",
       "      <td>132.0</td>\n",
       "      <td>12.78</td>\n",
       "    </tr>\n",
       "    <tr>\n",
       "      <th>24</th>\n",
       "      <td>Dominican Republic</td>\n",
       "      <td>45.020000</td>\n",
       "      <td>DOM</td>\n",
       "      <td>76.900000</td>\n",
       "      <td>0.788447</td>\n",
       "      <td>7268.196910</td>\n",
       "      <td>30.282472</td>\n",
       "      <td>Ingreso mediano alto</td>\n",
       "      <td>127.0</td>\n",
       "      <td>15.52</td>\n",
       "    </tr>\n",
       "  </tbody>\n",
       "</table>\n",
       "</div>"
      ],
      "text/plain": [
       "                Country  InternetPrice Country Code  \\\n",
       "100            Zimbabwe     104.830000          ZWE   \n",
       "13             Botswana      73.690000          BWA   \n",
       "51              Lebanon      51.900000          LBN   \n",
       "92              Tunisia      15.200000          TUN   \n",
       "59              Namibia      48.160000          NAM   \n",
       "47                Kenya      59.880000          KEN   \n",
       "67             Pakistan      23.098333          PAK   \n",
       "89             Tanzania      72.670000          TZA   \n",
       "93               Uganda      69.060000          UGA   \n",
       "1               Algeria      45.180000          DZA   \n",
       "63              Nigeria      40.950000          NGA   \n",
       "40   Iran, Islamic Rep.      19.700000          IRN   \n",
       "55             Maldives     109.220000          MDV   \n",
       "58              Morocco      28.956667          MAR   \n",
       "24   Dominican Republic      45.020000          DOM   \n",
       "\n",
       "     population internet use 2020  PIB 2020 (cien millones)  \\\n",
       "100                     29.300000                  0.180512   \n",
       "13                      64.000000                  0.150619   \n",
       "51                      84.100000                  0.317352   \n",
       "92                      71.900000                  0.416203   \n",
       "59                      41.000000                  0.106192   \n",
       "47                      29.500000                  1.010137   \n",
       "67                      25.000000                  2.626100   \n",
       "89                      22.000000                  0.624097   \n",
       "93                      19.900000                  0.376004   \n",
       "1                       62.900000                  1.450092   \n",
       "63                      35.500000                  4.322938   \n",
       "40                      84.110870                  2.034713   \n",
       "55                      62.930000                  0.037428   \n",
       "58                      84.120363                  1.147251   \n",
       "24                      76.900000                  0.788447   \n",
       "\n",
       "     PIB_per_capita 2020  proporcion industris sobre PIB  \\\n",
       "100          1214.509820                       35.817145   \n",
       "13           6404.899932                       27.769395   \n",
       "51           4649.547646                       17.639195   \n",
       "92           3521.591948                       21.635270   \n",
       "59           4179.278066                       25.848167   \n",
       "47           1878.580703                       17.404452   \n",
       "67           1188.859757                       18.602069   \n",
       "89           1076.469706                       28.674935   \n",
       "93            822.027682                       26.490525   \n",
       "1            3306.858208                       20.282297   \n",
       "63           2097.092473                       28.220506   \n",
       "40           2422.480657                       35.731857   \n",
       "55           6924.105745                       11.829545   \n",
       "58           3058.691689                       26.132218   \n",
       "24           7268.196910                       30.282472   \n",
       "\n",
       "                       Income_Group  Broadband Speed Rank  Broadband Mbps  \n",
       "100  Países de ingreso mediano bajo                 167.0            5.21  \n",
       "13             Ingreso mediano alto                 160.0            7.22  \n",
       "51   Países de ingreso mediano bajo                 159.0            7.27  \n",
       "92   Países de ingreso mediano bajo                 158.0            7.64  \n",
       "59             Ingreso mediano alto                 156.0            8.29  \n",
       "47   Países de ingreso mediano bajo                 153.0            8.91  \n",
       "67   Países de ingreso mediano bajo                 151.0            9.12  \n",
       "89   Países de ingreso mediano bajo                 148.0            9.45  \n",
       "93           Países de ingreso bajo                 145.0            9.57  \n",
       "1    Países de ingreso mediano bajo                 144.0            9.72  \n",
       "63   Países de ingreso mediano bajo                 142.0           10.06  \n",
       "40   Países de ingreso mediano bajo                 141.0           10.39  \n",
       "55             Ingreso mediano alto                 137.0           10.97  \n",
       "58   Países de ingreso mediano bajo                 132.0           12.78  \n",
       "24             Ingreso mediano alto                 127.0           15.52  "
      ]
     },
     "execution_count": 35,
     "metadata": {},
     "output_type": "execute_result"
    }
   ],
   "source": [
    "df_15_min_velocidad = df_resultado.sort_values(by=[\"Broadband Mbps\"],ascending=True).head(15)\n",
    "df_15_min_velocidad"
   ]
  },
  {
   "cell_type": "code",
   "execution_count": 49,
   "metadata": {},
   "outputs": [
    {
     "data": {
      "text/plain": [
       "Ingreso alto                      45\n",
       "Ingreso mediano alto              30\n",
       "Países de ingreso mediano bajo    25\n",
       "Países de ingreso bajo             1\n",
       "Name: Income_Group, dtype: int64"
      ]
     },
     "execution_count": 49,
     "metadata": {},
     "output_type": "execute_result"
    }
   ],
   "source": [
    "df_resultado[\"Income_Group\"].value_counts()"
   ]
  },
  {
   "cell_type": "code",
   "execution_count": 51,
   "metadata": {},
   "outputs": [
    {
     "data": {
      "text/plain": [
       "Text(0.5, 1.0, 'Los 15 paises con menor velocidad de internet')"
      ]
     },
     "execution_count": 51,
     "metadata": {},
     "output_type": "execute_result"
    },
    {
     "data": {
      "image/png": "[encoded data removed]",
      "text/plain": [
       "<Figure size 720x576 with 1 Axes>"
      ]
     },
     "metadata": {
      "needs_background": "light"
     },
     "output_type": "display_data"
    }
   ],
   "source": [
    "\n",
    "\n",
    "plt.figure(figsize=(10,8))\n",
    "sns.barplot(y='Country',\n",
    "            x=\"Broadband Mbps\",\n",
    "            data=df_15_min_velocidad,\n",
    "            hue='Income_Group',\n",
    "            hue_order=[\"Ingreso alto\",\"Ingreso mediano alto\",\"Países de ingreso mediano bajo\",\"Países de ingreso bajo\"],\n",
    "            dodge=False,\n",
    "           ci=None\n",
    "           )\n",
    "\n",
    "plt.title('Los 15 paises con menor velocidad de internet')"
   ]
  }
 ],
 "metadata": {
  "interpreter": {
   "hash": "aee8b7b246df8f9039afb4144a1f6fd8d2ca17a180786b69acc140d282b71a49"
  },
  "kernelspec": {
   "display_name": "Python 3.7.4 64-bit",
   "language": "python",
   "name": "python3"
  },
  "language_info": {
   "codemirror_mode": {
    "name": "ipython",
    "version": 3
   },
   "file_extension": ".py",
   "mimetype": "text/x-python",
   "name": "python",
   "nbconvert_exporter": "python",
   "pygments_lexer": "ipython3",
   "version": "3.7.4"
  },
  "orig_nbformat": 4
 },
 "nbformat": 4,
 "nbformat_minor": 2
}
